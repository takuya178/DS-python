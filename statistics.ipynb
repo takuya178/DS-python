{
 "cells": [
  {
   "cell_type": "code",
   "execution_count": 2,
   "metadata": {},
   "outputs": [],
   "source": [
    "import numpy as np\n",
    "import pandas as pd\n",
    "import matplotlib.pyplot as plt\n",
    "import nibabel as nib\n",
    "from glob import glob\n",
    "%matplotlib inline\n",
    "import random\n",
    "import itertools"
   ]
  },
  {
   "cell_type": "code",
   "execution_count": 44,
   "metadata": {},
   "outputs": [
    {
     "data": {
      "text/html": [
       "<div>\n",
       "<style scoped>\n",
       "    .dataframe tbody tr th:only-of-type {\n",
       "        vertical-align: middle;\n",
       "    }\n",
       "\n",
       "    .dataframe tbody tr th {\n",
       "        vertical-align: top;\n",
       "    }\n",
       "\n",
       "    .dataframe thead th {\n",
       "        text-align: right;\n",
       "    }\n",
       "</style>\n",
       "<table border=\"1\" class=\"dataframe\">\n",
       "  <thead>\n",
       "    <tr style=\"text-align: right;\">\n",
       "      <th></th>\n",
       "      <th>weight</th>\n",
       "    </tr>\n",
       "  </thead>\n",
       "  <tbody>\n",
       "    <tr>\n",
       "      <th>0</th>\n",
       "      <td>52</td>\n",
       "    </tr>\n",
       "    <tr>\n",
       "      <th>1</th>\n",
       "      <td>47</td>\n",
       "    </tr>\n",
       "    <tr>\n",
       "      <th>2</th>\n",
       "      <td>55</td>\n",
       "    </tr>\n",
       "    <tr>\n",
       "      <th>3</th>\n",
       "      <td>37</td>\n",
       "    </tr>\n",
       "    <tr>\n",
       "      <th>4</th>\n",
       "      <td>37</td>\n",
       "    </tr>\n",
       "    <tr>\n",
       "      <th>...</th>\n",
       "      <td>...</td>\n",
       "    </tr>\n",
       "    <tr>\n",
       "      <th>75</th>\n",
       "      <td>53</td>\n",
       "    </tr>\n",
       "    <tr>\n",
       "      <th>76</th>\n",
       "      <td>60</td>\n",
       "    </tr>\n",
       "    <tr>\n",
       "      <th>77</th>\n",
       "      <td>63</td>\n",
       "    </tr>\n",
       "    <tr>\n",
       "      <th>78</th>\n",
       "      <td>37</td>\n",
       "    </tr>\n",
       "    <tr>\n",
       "      <th>79</th>\n",
       "      <td>57</td>\n",
       "    </tr>\n",
       "  </tbody>\n",
       "</table>\n",
       "<p>80 rows × 1 columns</p>\n",
       "</div>"
      ],
      "text/plain": [
       "    weight\n",
       "0       52\n",
       "1       47\n",
       "2       55\n",
       "3       37\n",
       "4       37\n",
       "..     ...\n",
       "75      53\n",
       "76      60\n",
       "77      63\n",
       "78      37\n",
       "79      57\n",
       "\n",
       "[80 rows x 1 columns]"
      ]
     },
     "execution_count": 44,
     "metadata": {},
     "output_type": "execute_result"
    }
   ],
   "source": [
    "weights = []\n",
    "for _ in range(80):\n",
    "  weights.append(random.randrange(36, 70))\n",
    "weight_data = pd.DataFrame({'weight': weights})\n",
    "weight_data"
   ]
  },
  {
   "cell_type": "code",
   "execution_count": 99,
   "metadata": {},
   "outputs": [
    {
     "data": {
      "text/plain": [
       "(array([2., 3., 3., 2., 3., 2., 2.]),\n",
       " array([38.        , 42.28571429, 46.57142857, 50.85714286, 55.14285714,\n",
       "        59.42857143, 63.71428571, 68.        ]),\n",
       " <BarContainer object of 7 artists>)"
      ]
     },
     "execution_count": 99,
     "metadata": {},
     "output_type": "execute_result"
    },
    {
     "data": {
      "image/png": "[encoded data removed]",
      "text/plain": [
       "<Figure size 640x480 with 1 Axes>"
      ]
     },
     "metadata": {},
     "output_type": "display_data"
    }
   ],
   "source": [
    "df = pd.DataFrame()\n",
    "relative_frequencies = []\n",
    "cumulative_frequencies = []\n",
    "df['階級'] = pd.Series(['36~40', '41~45', '46~50', '51~55', '56~60', '61~65', '66~70'])\n",
    "df['階級値'] = pd.Series([38, 43, 48, 53, 58, 63, 68])\n",
    "df['度数'] = pd.Series([\n",
    "  weight_data[(weight_data['weight'] >= 36) & (weight_data['weight'] <= 40)]['weight'].count(),\n",
    "  weight_data[(weight_data['weight'] >= 41) & (weight_data['weight'] <= 45)]['weight'].count(),\n",
    "  weight_data[(weight_data['weight'] >= 46) & (weight_data['weight'] <= 50)]['weight'].count(),\n",
    "  weight_data[(weight_data['weight'] >= 51) & (weight_data['weight'] <= 55)]['weight'].count(),\n",
    "  weight_data[(weight_data['weight'] >= 56) & (weight_data['weight'] <= 60)]['weight'].count(),\n",
    "  weight_data[(weight_data['weight'] >= 61) & (weight_data['weight'] <= 65)]['weight'].count(),\n",
    "  weight_data[(weight_data['weight'] >= 66) & (weight_data['weight'] <= 70)]['weight'].count(),\n",
    "])\n",
    "df['相対度数'] = df['度数'].apply(lambda x: x / len(weight_data))\n",
    "for i in range(len(df)):\n",
    "  result_num = df.iloc[i]['度数']\n",
    "  for j in range(0, i):\n",
    "    result_num += df.iloc[j]['度数']\n",
    "  cumulative_frequencies.append(result_num)\n",
    "df['累積度数'] = pd.Series(cumulative_frequencies)\n",
    "\n",
    "plt.hist(df['階級値'], weights=df['度数'], bins=len(df))"
   ]
  },
  {
   "cell_type": "code",
   "execution_count": 3,
   "metadata": {},
   "outputs": [
    {
     "data": {
      "text/html": [
       "<div>\n",
       "<style scoped>\n",
       "    .dataframe tbody tr th:only-of-type {\n",
       "        vertical-align: middle;\n",
       "    }\n",
       "\n",
       "    .dataframe tbody tr th {\n",
       "        vertical-align: top;\n",
       "    }\n",
       "\n",
       "    .dataframe thead th {\n",
       "        text-align: right;\n",
       "    }\n",
       "</style>\n",
       "<table border=\"1\" class=\"dataframe\">\n",
       "  <thead>\n",
       "    <tr style=\"text-align: right;\">\n",
       "      <th></th>\n",
       "      <th>階級値</th>\n",
       "      <th>度数</th>\n",
       "      <th>相対度数</th>\n",
       "      <th>階級値x相対度数</th>\n",
       "    </tr>\n",
       "  </thead>\n",
       "  <tbody>\n",
       "    <tr>\n",
       "      <th>0</th>\n",
       "      <td>30</td>\n",
       "      <td>5</td>\n",
       "      <td>NaN</td>\n",
       "      <td>NaN</td>\n",
       "    </tr>\n",
       "    <tr>\n",
       "      <th>1</th>\n",
       "      <td>50</td>\n",
       "      <td>10</td>\n",
       "      <td>NaN</td>\n",
       "      <td>NaN</td>\n",
       "    </tr>\n",
       "    <tr>\n",
       "      <th>2</th>\n",
       "      <td>70</td>\n",
       "      <td>15</td>\n",
       "      <td>NaN</td>\n",
       "      <td>NaN</td>\n",
       "    </tr>\n",
       "    <tr>\n",
       "      <th>3</th>\n",
       "      <td>90</td>\n",
       "      <td>40</td>\n",
       "      <td>NaN</td>\n",
       "      <td>NaN</td>\n",
       "    </tr>\n",
       "    <tr>\n",
       "      <th>4</th>\n",
       "      <td>110</td>\n",
       "      <td>20</td>\n",
       "      <td>NaN</td>\n",
       "      <td>NaN</td>\n",
       "    </tr>\n",
       "    <tr>\n",
       "      <th>5</th>\n",
       "      <td>130</td>\n",
       "      <td>10</td>\n",
       "      <td>NaN</td>\n",
       "      <td>NaN</td>\n",
       "    </tr>\n",
       "  </tbody>\n",
       "</table>\n",
       "</div>"
      ],
      "text/plain": [
       "   階級値  度数  相対度数  階級値x相対度数\n",
       "0   30   5   NaN       NaN\n",
       "1   50  10   NaN       NaN\n",
       "2   70  15   NaN       NaN\n",
       "3   90  40   NaN       NaN\n",
       "4  110  20   NaN       NaN\n",
       "5  130  10   NaN       NaN"
      ]
     },
     "execution_count": 3,
     "metadata": {},
     "output_type": "execute_result"
    }
   ],
   "source": [
    "df = pd.read_csv('dataset/weight.csv')\n",
    "df"
   ]
  },
  {
   "cell_type": "code",
   "execution_count": 9,
   "metadata": {},
   "outputs": [
    {
     "data": {
      "text/plain": [
       "88.0"
      ]
     },
     "execution_count": 9,
     "metadata": {},
     "output_type": "execute_result"
    }
   ],
   "source": [
    "total_count = df['度数'].sum()\n",
    "df['相対度数'] = df['度数'].apply(lambda x: x / total_count)\n",
    "df['階級値x相対度数'] = df['階級値'] * df['相対度数']\n",
    "mean = df['階級値x相対度数'].sum()\n",
    "mean"
   ]
  },
  {
   "cell_type": "code",
   "execution_count": 19,
   "metadata": {},
   "outputs": [
    {
     "data": {
      "text/plain": [
       "2.0"
      ]
     },
     "execution_count": 19,
     "metadata": {},
     "output_type": "execute_result"
    }
   ],
   "source": [
    "df = np.array([6, 4, 6, 6, 6, 3, 7, 2, 2, 8])\n",
    "mean = df.mean()\n",
    "deviation = []\n",
    "for i in range(len(df)):\n",
    "  deviation.append(df[i] - mean)\n",
    "\n",
    "decentralization = 0\n",
    "for i in range(len(deviation)):\n",
    "  decentralization += (deviation[i] ** 2)\n",
    "\n",
    "decentralization = decentralization / len(df)\n",
    "sqrt = np.sqrt(decentralization)\n",
    "sqrt\n"
   ]
  },
  {
   "cell_type": "code",
   "execution_count": null,
   "metadata": {},
   "outputs": [],
   "source": []
  }
 ],
 "metadata": {
  "kernelspec": {
   "display_name": "base",
   "language": "python",
   "name": "python3"
  },
  "language_info": {
   "codemirror_mode": {
    "name": "ipython",
    "version": 3
   },
   "file_extension": ".py",
   "mimetype": "text/x-python",
   "name": "python",
   "nbconvert_exporter": "python",
   "pygments_lexer": "ipython3",
   "version": "3.11.4"
  }
 },
 "nbformat": 4,
 "nbformat_minor": 2
}
